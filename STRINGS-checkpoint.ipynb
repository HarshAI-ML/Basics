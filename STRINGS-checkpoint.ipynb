{
 "cells": [
  {
   "cell_type": "code",
   "execution_count": 29,
   "id": "1ae37ddc",
   "metadata": {},
   "outputs": [],
   "source": [
    "my_str='harsh'"
   ]
  },
  {
   "cell_type": "code",
   "execution_count": 18,
   "id": "37c69406",
   "metadata": {},
   "outputs": [
    {
     "data": {
      "text/plain": [
       "True"
      ]
     },
     "execution_count": 18,
     "metadata": {},
     "output_type": "execute_result"
    }
   ],
   "source": [
    "my_str.isalnum()"
   ]
  },
  {
   "cell_type": "code",
   "execution_count": 30,
   "id": "38d66eed",
   "metadata": {},
   "outputs": [],
   "source": [
    "x=my_str.isalpha()"
   ]
  },
  {
   "cell_type": "code",
   "execution_count": 31,
   "id": "476ff39c",
   "metadata": {},
   "outputs": [
    {
     "data": {
      "text/plain": [
       "bool"
      ]
     },
     "execution_count": 31,
     "metadata": {},
     "output_type": "execute_result"
    }
   ],
   "source": [
    "type(x)"
   ]
  },
  {
   "cell_type": "code",
   "execution_count": 33,
   "id": "95b6f76a",
   "metadata": {},
   "outputs": [
    {
     "data": {
      "text/plain": [
       "1"
      ]
     },
     "execution_count": 33,
     "metadata": {},
     "output_type": "execute_result"
    }
   ],
   "source": [
    "int(x)"
   ]
  },
  {
   "cell_type": "raw",
   "id": "ab99f58e",
   "metadata": {},
   "source": [
    "true and "
   ]
  },
  {
   "cell_type": "code",
   "execution_count": 35,
   "id": "e82fcf02",
   "metadata": {},
   "outputs": [
    {
     "data": {
      "text/plain": [
       "0"
      ]
     },
     "execution_count": 35,
     "metadata": {},
     "output_type": "execute_result"
    }
   ],
   "source": [
    "1 and 0"
   ]
  },
  {
   "cell_type": "code",
   "execution_count": 36,
   "id": "1187186c",
   "metadata": {},
   "outputs": [
    {
     "data": {
      "text/plain": [
       "1"
      ]
     },
     "execution_count": 36,
     "metadata": {},
     "output_type": "execute_result"
    }
   ],
   "source": [
    "1 or 0 "
   ]
  },
  {
   "cell_type": "code",
   "execution_count": 37,
   "id": "a4ff2451",
   "metadata": {},
   "outputs": [],
   "source": [
    "sd=list()"
   ]
  },
  {
   "cell_type": "code",
   "execution_count": 38,
   "id": "157121dc",
   "metadata": {},
   "outputs": [
    {
     "data": {
      "text/plain": [
       "list"
      ]
     },
     "execution_count": 38,
     "metadata": {},
     "output_type": "execute_result"
    }
   ],
   "source": [
    "type(sd)"
   ]
  },
  {
   "cell_type": "code",
   "execution_count": 57,
   "id": "9319f36e",
   "metadata": {},
   "outputs": [],
   "source": [
    "sd=['hey','harsh','hii',1,2,3,4,'hey']"
   ]
  },
  {
   "cell_type": "code",
   "execution_count": 60,
   "id": "9c2bbdd0",
   "metadata": {},
   "outputs": [],
   "source": [
    "sd.insert(2,'shinde')"
   ]
  },
  {
   "cell_type": "code",
   "execution_count": 63,
   "id": "0c92c2ec",
   "metadata": {},
   "outputs": [],
   "source": [
    "sd.reverse()"
   ]
  },
  {
   "cell_type": "code",
   "execution_count": 71,
   "id": "22891dba",
   "metadata": {},
   "outputs": [],
   "source": [
    "sd.remove(2)"
   ]
  },
  {
   "cell_type": "code",
   "execution_count": null,
   "id": "c608315d",
   "metadata": {},
   "outputs": [],
   "source": []
  }
 ],
 "metadata": {
  "kernelspec": {
   "display_name": "Python 3 (ipykernel)",
   "language": "python",
   "name": "python3"
  },
  "language_info": {
   "codemirror_mode": {
    "name": "ipython",
    "version": 3
   },
   "file_extension": ".py",
   "mimetype": "text/x-python",
   "name": "python",
   "nbconvert_exporter": "python",
   "pygments_lexer": "ipython3",
   "version": "3.10.9"
  }
 },
 "nbformat": 4,
 "nbformat_minor": 5
}
